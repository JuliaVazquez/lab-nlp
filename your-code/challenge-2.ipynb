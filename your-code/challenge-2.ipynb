{
 "cells": [
  {
   "cell_type": "markdown",
   "metadata": {},
   "source": [
    "# Challenge 2: Sentiment Analysis\n",
    "\n",
    "In this challenge we will learn sentiment analysis and practice performing sentiment analysis on Twitter tweets. \n",
    "\n",
    "## Introduction\n",
    "\n",
    "Sentiment analysis is to *systematically identify, extract, quantify, and study affective states and subjective information* based on texts ([reference](https://en.wikipedia.org/wiki/Sentiment_analysis)). In simple words, it's to understand whether a person is happy or unhappy in producing the piece of text. Why we (or rather, companies) care about sentiment in texts? It's because by understanding the sentiments in texts, we will be able to know if our customers are happy or unhappy about our products and services. If they are unhappy, the subsequent action is to figure out what have caused the unhappiness and make improvements.\n",
    "\n",
    "Basic sentiment analysis only understands the *positive* or *negative* (sometimes *neutral* too) polarities of the sentiment. More advanced sentiment analysis will also consider dimensions such as agreement, subjectivity, confidence, irony, and so on. In this challenge we will conduct the basic positive vs negative sentiment analysis based on real Twitter tweets.\n",
    "\n",
    "NLTK comes with a [sentiment analysis package](https://www.nltk.org/api/nltk.sentiment.html). This package is great for dummies to perform sentiment analysis because it requires only the textual data to make predictions. For example:\n",
    "\n",
    "```python\n",
    ">>> from nltk.sentiment.vader import SentimentIntensityAnalyzer\n",
    ">>> txt = \"Ironhack is a Global Tech School ranked num 2 worldwide.  ",
    " ",
    "Our mission is to help people transform their careers and join a thriving community of tech professionals that love what they do.\"\n",
    ">>> analyzer = SentimentIntensityAnalyzer()\n",
    ">>> analyzer.polarity_scores(txt)\n",
    "{'neg': 0.0, 'neu': 0.741, 'pos': 0.259, 'compound': 0.8442}\n",
    "```\n",
    "\n",
    "In this challenge, however, you will not use NLTK's sentiment analysis package because in your Machine Learning training in the past 2 weeks you have learned how to make predictions more accurate than that. The [tweets data](https://www.kaggle.com/kazanova/sentiment140) we will be using today are already coded for the positive/negative sentiment. You will be able to use the Naïve Bayes classifier you learned in the lesson to predict the sentiment of tweets based on the labels."
   ]
  },
  {
   "cell_type": "markdown",
   "metadata": {},
   "source": [
    "## Conducting Sentiment Analysis\n",
    "\n",
    "### Loading and Exploring Data\n",
    "\n",
    "The dataset we'll be using today is located on Kaggle (https://www.kaggle.com/kazanova/sentiment140). Once you have downloaded and imported the dataset, it you will need to define the columns names: df.columns = ['target','id','date','flag','user','text']\n",
    "\n",
    "*Notes:* \n",
    "\n",
    "* The dataset is huuuuge (1.6m tweets). When you develop your data analysis codes, you can sample a subset of the data (e.g. 20k records) so that you will save a lot of time when you test your codes."
   ]
  },
  {
   "cell_type": "code",
   "execution_count": 1,
   "metadata": {},
   "outputs": [],
   "source": [
    "# your code here\n",
    "import pandas as pd\n",
    "import numpy as np\n",
    "import re\n",
    "pd.set_option('display.max_columns', None)"
   ]
  },
  {
   "cell_type": "code",
   "execution_count": 2,
   "metadata": {},
   "outputs": [
    {
     "name": "stdout",
     "output_type": "stream",
     "text": [
      "\"0\",\"1467810369\",\"Mon Apr 06 22:19:45 PDT 2009\",\"NO_QUERY\",\"_TheSpecialOne_\",\"@switchfoot http://twitpic.com/2y1zl - Awww, that's a bummer.  You shoulda got David Carr of Third Day to do it. ;D\"\n",
      "\n"
     ]
    }
   ],
   "source": [
    "f = open(\"training.1600000.processed.noemoticon.csv\", \"r\")\n",
    "print(f.readline())"
   ]
  },
  {
   "cell_type": "code",
   "execution_count": 3,
   "metadata": {},
   "outputs": [],
   "source": [
    "lines = []\n",
    "\n",
    "for x in f:\n",
    "    lines.append(x)"
   ]
  },
  {
   "cell_type": "code",
   "execution_count": 4,
   "metadata": {},
   "outputs": [
    {
     "data": {
      "text/plain": [
       "1599999"
      ]
     },
     "execution_count": 4,
     "metadata": {},
     "output_type": "execute_result"
    }
   ],
   "source": [
    "len(lines)"
   ]
  },
  {
   "cell_type": "code",
   "execution_count": 5,
   "metadata": {},
   "outputs": [],
   "source": [
    "less_lines = []\n",
    "\n",
    "for i in range(1,1600000,80):\n",
    "    less_lines.append(lines[i])"
   ]
  },
  {
   "cell_type": "code",
   "execution_count": 6,
   "metadata": {},
   "outputs": [
    {
     "data": {
      "text/plain": [
       "20000"
      ]
     },
     "execution_count": 6,
     "metadata": {},
     "output_type": "execute_result"
    }
   ],
   "source": [
    "len(less_lines)"
   ]
  },
  {
   "cell_type": "code",
   "execution_count": 7,
   "metadata": {},
   "outputs": [
    {
     "data": {
      "text/plain": [
       "'\"4\",\"2193575955\",\"Tue Jun 16 08:38:42 PDT 2009\",\"NO_QUERY\",\"misscaroline16\",\"scrubbed into surgery today \"\\n'"
      ]
     },
     "execution_count": 7,
     "metadata": {},
     "output_type": "execute_result"
    }
   ],
   "source": [
    "less_lines[-1]"
   ]
  },
  {
   "cell_type": "code",
   "execution_count": 8,
   "metadata": {},
   "outputs": [
    {
     "data": {
      "text/plain": [
       "'\"mattycus\"'"
      ]
     },
     "execution_count": 8,
     "metadata": {},
     "output_type": "execute_result"
    }
   ],
   "source": [
    "less_lines[0].split(',')[4]"
   ]
  },
  {
   "cell_type": "code",
   "execution_count": 9,
   "metadata": {},
   "outputs": [
    {
     "data": {
      "text/plain": [
       "'mattycus'"
      ]
     },
     "execution_count": 9,
     "metadata": {},
     "output_type": "execute_result"
    }
   ],
   "source": [
    "re.sub('\"', '',less_lines[0].split(',')[4])"
   ]
  },
  {
   "cell_type": "code",
   "execution_count": 11,
   "metadata": {},
   "outputs": [],
   "source": [
    "target = []\n",
    "df_id = []\n",
    "date = []\n",
    "flag = []\n",
    "user = []\n",
    "text = []\n",
    "\n",
    "for i in range(len(less_lines)):\n",
    "    target.append(re.sub('\"', '', less_lines[i].split(',')[0]))\n",
    "    df_id.append(re.sub('\"', '', less_lines[i].split(',')[1]))\n",
    "    date.append(re.sub('\"', '', less_lines[i].split(',')[2]))\n",
    "    flag.append(re.sub('\"', '', less_lines[i].split(',')[3]))\n",
    "    user.append(re.sub('\"', '', less_lines[i].split(',')[4]))\n",
    "    text.append(re.sub('\"', '', less_lines[i].split(',')[5]))"
   ]
  },
  {
   "cell_type": "code",
   "execution_count": null,
   "metadata": {},
   "outputs": [],
   "source": [
    "df['target'] = target\n",
    "df['id'] = df_id\n",
    "df['date'] = date\n",
    "df['flag'] = flag\n",
    "df['user'] = user\n",
    "df['text'] = text"
   ]
  },
  {
   "cell_type": "code",
   "execution_count": 15,
   "metadata": {},
   "outputs": [
    {
     "data": {
      "text/html": [
       "<div>\n",
       "<style scoped>\n",
       "    .dataframe tbody tr th:only-of-type {\n",
       "        vertical-align: middle;\n",
       "    }\n",
       "\n",
       "    .dataframe tbody tr th {\n",
       "        vertical-align: top;\n",
       "    }\n",
       "\n",
       "    .dataframe thead th {\n",
       "        text-align: right;\n",
       "    }\n",
       "</style>\n",
       "<table border=\"1\" class=\"dataframe\">\n",
       "  <thead>\n",
       "    <tr style=\"text-align: right;\">\n",
       "      <th></th>\n",
       "      <th>target</th>\n",
       "      <th>id</th>\n",
       "      <th>date</th>\n",
       "      <th>flag</th>\n",
       "      <th>user</th>\n",
       "      <th>text</th>\n",
       "    </tr>\n",
       "  </thead>\n",
       "  <tbody>\n",
       "    <tr>\n",
       "      <th>0</th>\n",
       "      <td>0</td>\n",
       "      <td>1467810917</td>\n",
       "      <td>Mon Apr 06 22:19:53 PDT 2009</td>\n",
       "      <td>NO_QUERY</td>\n",
       "      <td>mattycus</td>\n",
       "      <td>@Kenichan I dived many times for the ball. Man...</td>\n",
       "    </tr>\n",
       "    <tr>\n",
       "      <th>1</th>\n",
       "      <td>0</td>\n",
       "      <td>1467834239</td>\n",
       "      <td>Mon Apr 06 22:25:53 PDT 2009</td>\n",
       "      <td>NO_QUERY</td>\n",
       "      <td>mscha</td>\n",
       "      <td>missin' the boo \\n</td>\n",
       "    </tr>\n",
       "    <tr>\n",
       "      <th>2</th>\n",
       "      <td>0</td>\n",
       "      <td>1467853479</td>\n",
       "      <td>Mon Apr 06 22:30:56 PDT 2009</td>\n",
       "      <td>NO_QUERY</td>\n",
       "      <td>ringleaderkanon</td>\n",
       "      <td>I feel bad for doing it \\n</td>\n",
       "    </tr>\n",
       "    <tr>\n",
       "      <th>3</th>\n",
       "      <td>0</td>\n",
       "      <td>1467873256</td>\n",
       "      <td>Mon Apr 06 22:36:06 PDT 2009</td>\n",
       "      <td>NO_QUERY</td>\n",
       "      <td>nicci718</td>\n",
       "      <td>@kristencampisi is this it 4 u? Its ' official...</td>\n",
       "    </tr>\n",
       "    <tr>\n",
       "      <th>4</th>\n",
       "      <td>0</td>\n",
       "      <td>1467894749</td>\n",
       "      <td>Mon Apr 06 22:41:54 PDT 2009</td>\n",
       "      <td>NO_QUERY</td>\n",
       "      <td>Fudgey84</td>\n",
       "      <td>wishing i was home underneath my covers \\n</td>\n",
       "    </tr>\n",
       "    <tr>\n",
       "      <th>...</th>\n",
       "      <td>...</td>\n",
       "      <td>...</td>\n",
       "      <td>...</td>\n",
       "      <td>...</td>\n",
       "      <td>...</td>\n",
       "      <td>...</td>\n",
       "    </tr>\n",
       "    <tr>\n",
       "      <th>19995</th>\n",
       "      <td>4</td>\n",
       "      <td>2193477911</td>\n",
       "      <td>Tue Jun 16 08:30:44 PDT 2009</td>\n",
       "      <td>NO_QUERY</td>\n",
       "      <td>Liza_L</td>\n",
       "      <td>@JoAnneJoyM hi !!!! Thank you ! I missed my tw...</td>\n",
       "    </tr>\n",
       "    <tr>\n",
       "      <th>19996</th>\n",
       "      <td>4</td>\n",
       "      <td>2193503503</td>\n",
       "      <td>Tue Jun 16 08:32:48 PDT 2009</td>\n",
       "      <td>NO_QUERY</td>\n",
       "      <td>oscarbarber</td>\n",
       "      <td>@perequintana ara sÃ­ que ets tot un &amp;quot;pir...</td>\n",
       "    </tr>\n",
       "    <tr>\n",
       "      <th>19997</th>\n",
       "      <td>4</td>\n",
       "      <td>2193527876</td>\n",
       "      <td>Tue Jun 16 08:34:47 PDT 2009</td>\n",
       "      <td>NO_QUERY</td>\n",
       "      <td>MKeithHarris</td>\n",
       "      <td>@denniswords good times indeed \\n</td>\n",
       "    </tr>\n",
       "    <tr>\n",
       "      <th>19998</th>\n",
       "      <td>4</td>\n",
       "      <td>2193552062</td>\n",
       "      <td>Tue Jun 16 08:36:44 PDT 2009</td>\n",
       "      <td>NO_QUERY</td>\n",
       "      <td>_Jackielynn_</td>\n",
       "      <td>just woke up</td>\n",
       "    </tr>\n",
       "    <tr>\n",
       "      <th>19999</th>\n",
       "      <td>4</td>\n",
       "      <td>2193575955</td>\n",
       "      <td>Tue Jun 16 08:38:42 PDT 2009</td>\n",
       "      <td>NO_QUERY</td>\n",
       "      <td>misscaroline16</td>\n",
       "      <td>scrubbed into surgery today \\n</td>\n",
       "    </tr>\n",
       "  </tbody>\n",
       "</table>\n",
       "<p>20000 rows × 6 columns</p>\n",
       "</div>"
      ],
      "text/plain": [
       "      target          id                          date      flag  \\\n",
       "0          0  1467810917  Mon Apr 06 22:19:53 PDT 2009  NO_QUERY   \n",
       "1          0  1467834239  Mon Apr 06 22:25:53 PDT 2009  NO_QUERY   \n",
       "2          0  1467853479  Mon Apr 06 22:30:56 PDT 2009  NO_QUERY   \n",
       "3          0  1467873256  Mon Apr 06 22:36:06 PDT 2009  NO_QUERY   \n",
       "4          0  1467894749  Mon Apr 06 22:41:54 PDT 2009  NO_QUERY   \n",
       "...      ...         ...                           ...       ...   \n",
       "19995      4  2193477911  Tue Jun 16 08:30:44 PDT 2009  NO_QUERY   \n",
       "19996      4  2193503503  Tue Jun 16 08:32:48 PDT 2009  NO_QUERY   \n",
       "19997      4  2193527876  Tue Jun 16 08:34:47 PDT 2009  NO_QUERY   \n",
       "19998      4  2193552062  Tue Jun 16 08:36:44 PDT 2009  NO_QUERY   \n",
       "19999      4  2193575955  Tue Jun 16 08:38:42 PDT 2009  NO_QUERY   \n",
       "\n",
       "                  user                                               text  \n",
       "0             mattycus  @Kenichan I dived many times for the ball. Man...  \n",
       "1                mscha                                 missin' the boo \\n  \n",
       "2      ringleaderkanon                         I feel bad for doing it \\n  \n",
       "3             nicci718  @kristencampisi is this it 4 u? Its ' official...  \n",
       "4             Fudgey84         wishing i was home underneath my covers \\n  \n",
       "...                ...                                                ...  \n",
       "19995           Liza_L  @JoAnneJoyM hi !!!! Thank you ! I missed my tw...  \n",
       "19996      oscarbarber  @perequintana ara sÃ­ que ets tot un &quot;pir...  \n",
       "19997     MKeithHarris                  @denniswords good times indeed \\n  \n",
       "19998     _Jackielynn_                                       just woke up  \n",
       "19999   misscaroline16                     scrubbed into surgery today \\n  \n",
       "\n",
       "[20000 rows x 6 columns]"
      ]
     },
     "execution_count": 15,
     "metadata": {},
     "output_type": "execute_result"
    }
   ],
   "source": [
    "df"
   ]
  },
  {
   "cell_type": "markdown",
   "metadata": {},
   "source": [
    "### Prepare Textual Data for Sentiment Analysis\n",
    "\n",
    "Now, apply the functions you have written in Challenge 1 to your whole data set. These functions include:\n",
    "\n",
    "* `clean_up()`\n",
    "\n",
    "* `tokenize()`\n",
    "\n",
    "* `stem_and_lemmatize()`\n",
    "\n",
    "* `remove_stopwords()`\n",
    "\n",
    "Create a new column called `text_processed` in the dataframe to contain the processed data. At the end, your `text_processed` column should contain lists of word tokens that are cleaned up. Your data should look like below:\n",
    "\n",
    "![Processed Data](data-cleaning-results.png)"
   ]
  },
  {
   "cell_type": "code",
   "execution_count": 23,
   "metadata": {},
   "outputs": [],
   "source": [
    "# your code here\n",
    "import nltk\n",
    "from nltk.tokenize import word_tokenize\n",
    "from nltk.stem import PorterStemmer\n",
    "from nltk.stem import WordNetLemmatizer\n",
    "from nltk.corpus import wordnet\n",
    "from nltk.corpus import stopwords"
   ]
  },
  {
   "cell_type": "code",
   "execution_count": 18,
   "metadata": {},
   "outputs": [],
   "source": [
    "def clean_up(s):\n",
    "    # clean URL\n",
    "    text1 = s.split('http')[0]\n",
    "    \n",
    "    #make lower case\n",
    "    text1 = text1.lower()\n",
    "    \n",
    "    # select elements we don't want\n",
    "    de1 = re.findall('\\W', text1)\n",
    "    de2 = re.findall('\\d',text1)\n",
    "    delete = de1+de2\n",
    "    \n",
    "    #deleting elements from text\n",
    "    for i in delete:\n",
    "        text1 = text1.replace(i,' ')\n",
    "\n",
    "    \n",
    "    return text1"
   ]
  },
  {
   "cell_type": "code",
   "execution_count": 19,
   "metadata": {},
   "outputs": [],
   "source": [
    "def tokenize(s):\n",
    "    return word_tokenize(s)"
   ]
  },
  {
   "cell_type": "code",
   "execution_count": 20,
   "metadata": {},
   "outputs": [],
   "source": [
    "def stem_and_lemmatize(l):\n",
    "    \n",
    "    #stemmed\n",
    "    ps = PorterStemmer()\n",
    "    l = [ps.stem(w) for w in l]\n",
    "    \n",
    "    #lemmatized\n",
    "    lem = WordNetLemmatizer() \n",
    "    l = [lem.lemmatize(word) for word in l]\n",
    "    \n",
    "    return l"
   ]
  },
  {
   "cell_type": "code",
   "execution_count": 21,
   "metadata": {},
   "outputs": [],
   "source": [
    "def remove_stopwords(l):\n",
    "    return [word for word in l if not word in stopwords.words()]"
   ]
  },
  {
   "cell_type": "code",
   "execution_count": 24,
   "metadata": {},
   "outputs": [],
   "source": [
    "text_processed = []\n",
    "\n",
    "for row in df['text']:\n",
    "    clean = clean_up(row)\n",
    "    token = tokenize(clean)\n",
    "    stem_lem = stem_and_lemmatize(token)\n",
    "    no_stop = remove_stopwords(stem_lem)\n",
    "    text_processed.append(no_stop)"
   ]
  },
  {
   "cell_type": "code",
   "execution_count": 25,
   "metadata": {},
   "outputs": [],
   "source": [
    "df['text_processed'] = text_processed"
   ]
  },
  {
   "cell_type": "code",
   "execution_count": 26,
   "metadata": {},
   "outputs": [
    {
     "data": {
      "text/html": [
       "<div>\n",
       "<style scoped>\n",
       "    .dataframe tbody tr th:only-of-type {\n",
       "        vertical-align: middle;\n",
       "    }\n",
       "\n",
       "    .dataframe tbody tr th {\n",
       "        vertical-align: top;\n",
       "    }\n",
       "\n",
       "    .dataframe thead th {\n",
       "        text-align: right;\n",
       "    }\n",
       "</style>\n",
       "<table border=\"1\" class=\"dataframe\">\n",
       "  <thead>\n",
       "    <tr style=\"text-align: right;\">\n",
       "      <th></th>\n",
       "      <th>target</th>\n",
       "      <th>id</th>\n",
       "      <th>date</th>\n",
       "      <th>flag</th>\n",
       "      <th>user</th>\n",
       "      <th>text</th>\n",
       "      <th>text_processed</th>\n",
       "    </tr>\n",
       "  </thead>\n",
       "  <tbody>\n",
       "    <tr>\n",
       "      <th>0</th>\n",
       "      <td>0</td>\n",
       "      <td>1467810917</td>\n",
       "      <td>Mon Apr 06 22:19:53 PDT 2009</td>\n",
       "      <td>NO_QUERY</td>\n",
       "      <td>mattycus</td>\n",
       "      <td>@Kenichan I dived many times for the ball. Man...</td>\n",
       "      <td>[kenichan, dive, time, ball, manag, save, rest...</td>\n",
       "    </tr>\n",
       "    <tr>\n",
       "      <th>1</th>\n",
       "      <td>0</td>\n",
       "      <td>1467834239</td>\n",
       "      <td>Mon Apr 06 22:25:53 PDT 2009</td>\n",
       "      <td>NO_QUERY</td>\n",
       "      <td>mscha</td>\n",
       "      <td>missin' the boo \\n</td>\n",
       "      <td>[missin, boo]</td>\n",
       "    </tr>\n",
       "    <tr>\n",
       "      <th>2</th>\n",
       "      <td>0</td>\n",
       "      <td>1467853479</td>\n",
       "      <td>Mon Apr 06 22:30:56 PDT 2009</td>\n",
       "      <td>NO_QUERY</td>\n",
       "      <td>ringleaderkanon</td>\n",
       "      <td>I feel bad for doing it \\n</td>\n",
       "      <td>[feel]</td>\n",
       "    </tr>\n",
       "    <tr>\n",
       "      <th>3</th>\n",
       "      <td>0</td>\n",
       "      <td>1467873256</td>\n",
       "      <td>Mon Apr 06 22:36:06 PDT 2009</td>\n",
       "      <td>NO_QUERY</td>\n",
       "      <td>nicci718</td>\n",
       "      <td>@kristencampisi is this it 4 u? Its ' official...</td>\n",
       "      <td>[kristencampisi, offici, round]</td>\n",
       "    </tr>\n",
       "    <tr>\n",
       "      <th>4</th>\n",
       "      <td>0</td>\n",
       "      <td>1467894749</td>\n",
       "      <td>Mon Apr 06 22:41:54 PDT 2009</td>\n",
       "      <td>NO_QUERY</td>\n",
       "      <td>Fudgey84</td>\n",
       "      <td>wishing i was home underneath my covers \\n</td>\n",
       "      <td>[wish, wa, home, underneath, cover]</td>\n",
       "    </tr>\n",
       "    <tr>\n",
       "      <th>...</th>\n",
       "      <td>...</td>\n",
       "      <td>...</td>\n",
       "      <td>...</td>\n",
       "      <td>...</td>\n",
       "      <td>...</td>\n",
       "      <td>...</td>\n",
       "      <td>...</td>\n",
       "    </tr>\n",
       "    <tr>\n",
       "      <th>19995</th>\n",
       "      <td>4</td>\n",
       "      <td>2193477911</td>\n",
       "      <td>Tue Jun 16 08:30:44 PDT 2009</td>\n",
       "      <td>NO_QUERY</td>\n",
       "      <td>Liza_L</td>\n",
       "      <td>@JoAnneJoyM hi !!!! Thank you ! I missed my tw...</td>\n",
       "      <td>[joannejoym, miss, twitter, friend]</td>\n",
       "    </tr>\n",
       "    <tr>\n",
       "      <th>19996</th>\n",
       "      <td>4</td>\n",
       "      <td>2193503503</td>\n",
       "      <td>Tue Jun 16 08:32:48 PDT 2009</td>\n",
       "      <td>NO_QUERY</td>\n",
       "      <td>oscarbarber</td>\n",
       "      <td>@perequintana ara sÃ­ que ets tot un &amp;quot;pir...</td>\n",
       "      <td>[perequintana, ara, sã, quot, pirata, quot, th...</td>\n",
       "    </tr>\n",
       "    <tr>\n",
       "      <th>19997</th>\n",
       "      <td>4</td>\n",
       "      <td>2193527876</td>\n",
       "      <td>Tue Jun 16 08:34:47 PDT 2009</td>\n",
       "      <td>NO_QUERY</td>\n",
       "      <td>MKeithHarris</td>\n",
       "      <td>@denniswords good times indeed \\n</td>\n",
       "      <td>[dennisword, time, inde]</td>\n",
       "    </tr>\n",
       "    <tr>\n",
       "      <th>19998</th>\n",
       "      <td>4</td>\n",
       "      <td>2193552062</td>\n",
       "      <td>Tue Jun 16 08:36:44 PDT 2009</td>\n",
       "      <td>NO_QUERY</td>\n",
       "      <td>_Jackielynn_</td>\n",
       "      <td>just woke up</td>\n",
       "      <td>[woke]</td>\n",
       "    </tr>\n",
       "    <tr>\n",
       "      <th>19999</th>\n",
       "      <td>4</td>\n",
       "      <td>2193575955</td>\n",
       "      <td>Tue Jun 16 08:38:42 PDT 2009</td>\n",
       "      <td>NO_QUERY</td>\n",
       "      <td>misscaroline16</td>\n",
       "      <td>scrubbed into surgery today \\n</td>\n",
       "      <td>[scrub, surgeri, today]</td>\n",
       "    </tr>\n",
       "  </tbody>\n",
       "</table>\n",
       "<p>20000 rows × 7 columns</p>\n",
       "</div>"
      ],
      "text/plain": [
       "      target          id                          date      flag  \\\n",
       "0          0  1467810917  Mon Apr 06 22:19:53 PDT 2009  NO_QUERY   \n",
       "1          0  1467834239  Mon Apr 06 22:25:53 PDT 2009  NO_QUERY   \n",
       "2          0  1467853479  Mon Apr 06 22:30:56 PDT 2009  NO_QUERY   \n",
       "3          0  1467873256  Mon Apr 06 22:36:06 PDT 2009  NO_QUERY   \n",
       "4          0  1467894749  Mon Apr 06 22:41:54 PDT 2009  NO_QUERY   \n",
       "...      ...         ...                           ...       ...   \n",
       "19995      4  2193477911  Tue Jun 16 08:30:44 PDT 2009  NO_QUERY   \n",
       "19996      4  2193503503  Tue Jun 16 08:32:48 PDT 2009  NO_QUERY   \n",
       "19997      4  2193527876  Tue Jun 16 08:34:47 PDT 2009  NO_QUERY   \n",
       "19998      4  2193552062  Tue Jun 16 08:36:44 PDT 2009  NO_QUERY   \n",
       "19999      4  2193575955  Tue Jun 16 08:38:42 PDT 2009  NO_QUERY   \n",
       "\n",
       "                  user                                               text  \\\n",
       "0             mattycus  @Kenichan I dived many times for the ball. Man...   \n",
       "1                mscha                                 missin' the boo \\n   \n",
       "2      ringleaderkanon                         I feel bad for doing it \\n   \n",
       "3             nicci718  @kristencampisi is this it 4 u? Its ' official...   \n",
       "4             Fudgey84         wishing i was home underneath my covers \\n   \n",
       "...                ...                                                ...   \n",
       "19995           Liza_L  @JoAnneJoyM hi !!!! Thank you ! I missed my tw...   \n",
       "19996      oscarbarber  @perequintana ara sÃ­ que ets tot un &quot;pir...   \n",
       "19997     MKeithHarris                  @denniswords good times indeed \\n   \n",
       "19998     _Jackielynn_                                       just woke up   \n",
       "19999   misscaroline16                     scrubbed into surgery today \\n   \n",
       "\n",
       "                                          text_processed  \n",
       "0      [kenichan, dive, time, ball, manag, save, rest...  \n",
       "1                                          [missin, boo]  \n",
       "2                                                 [feel]  \n",
       "3                        [kristencampisi, offici, round]  \n",
       "4                    [wish, wa, home, underneath, cover]  \n",
       "...                                                  ...  \n",
       "19995                [joannejoym, miss, twitter, friend]  \n",
       "19996  [perequintana, ara, sã, quot, pirata, quot, th...  \n",
       "19997                           [dennisword, time, inde]  \n",
       "19998                                             [woke]  \n",
       "19999                            [scrub, surgeri, today]  \n",
       "\n",
       "[20000 rows x 7 columns]"
      ]
     },
     "execution_count": 26,
     "metadata": {},
     "output_type": "execute_result"
    }
   ],
   "source": [
    "df"
   ]
  },
  {
   "cell_type": "markdown",
   "metadata": {},
   "source": [
    "### Creating Bag of Words\n",
    "\n",
    "The purpose of this step is to create a [bag of words](https://en.wikipedia.org/wiki/Bag-of-words_model) from the processed data. The bag of words contains all the unique words in your whole text body (a.k.a. *corpus*) with the number of occurrence of each word. It will allow you to understand which words are the most important features across the whole corpus.\n",
    "\n",
    "Also, you can imagine you will have a massive set of words. The less important words (i.e. those of very low number of occurrence) do not contribute much to the sentiment. Therefore, you only need to use the most important words to build your feature set in the next step. In our case, we will use the top 5,000 words with the highest frequency to build the features.\n",
    "\n",
    "In the cell below, combine all the words in `text_processed` and calculate the frequency distribution of all words. A convenient library to calculate the term frequency distribution is NLTK's `FreqDist` class ([documentation](https://www.nltk.org/api/nltk.html#module-nltk.probability)). Then select the top 5,000 words from the frequency distribution."
   ]
  },
  {
   "cell_type": "code",
   "execution_count": 27,
   "metadata": {},
   "outputs": [],
   "source": [
    "# your code here\n",
    "from sklearn.feature_extraction.text import CountVectorizer"
   ]
  },
  {
   "cell_type": "code",
   "execution_count": 29,
   "metadata": {},
   "outputs": [],
   "source": [
    "bow_vect = CountVectorizer(max_features=5000)\n",
    "bow_vect\n",
    "# X = bow_vect.fit_transform(df['text_processed']).toarray()"
   ]
  },
  {
   "cell_type": "markdown",
   "metadata": {},
   "source": [
    "### Building Features\n",
    "\n",
    "Now let's build the features. Using the top 5,000 words, create a 2-dimensional matrix to record whether each of those words is contained in each document (tweet). Then you also have an output column to indicate whether the sentiment in each tweet is positive. For example, assuming your bag of words has 5 items (`['one', 'two', 'three', 'four', 'five']`) out of 4 documents (`['A', 'B', 'C', 'D']`), your feature set is essentially:\n",
    "\n",
    "| Doc | one | two | three | four | five | is_positive |\n",
    "|---|---|---|---|---|---|---|\n",
    "| A | True | False | False | True | False | True |\n",
    "| B | False | False | False | True | True | False |\n",
    "| C | False | True | False | False | False | True |\n",
    "| D | True | False | False | False | True | False|\n",
    "\n",
    "However, because the `nltk.NaiveBayesClassifier.train` class we will use in the next step does not work with Pandas dataframe, the structure of your feature set should be converted to the Python list looking like below:\n",
    "\n",
    "```python\n",
    "[\n",
    "\t({\n",
    "\t\t'one': True,\n",
    "\t\t'two': False,\n",
    "\t\t'three': False,\n",
    "\t\t'four': True,\n",
    "\t\t'five': False\n",
    "\t}, True),\n",
    "\t({\n",
    "\t\t'one': False,\n",
    "\t\t'two': False,\n",
    "\t\t'three': False,\n",
    "\t\t'four': True,\n",
    "\t\t'five': True\n",
    "\t}, False),\n",
    "\t({\n",
    "\t\t'one': False,\n",
    "\t\t'two': True,\n",
    "\t\t'three': False,\n",
    "\t\t'four': False,\n",
    "\t\t'five': False\n",
    "\t}, True),\n",
    "\t({\n",
    "\t\t'one': True,\n",
    "\t\t'two': False,\n",
    "\t\t'three': False,\n",
    "\t\t'four': False,\n",
    "\t\t'five': True\n",
    "\t}, False)\n",
    "]\n",
    "```\n",
    "\n",
    "To help you in this step, watch the [following video](https://www.youtube.com/watch?v=-vVskDsHcVc) to learn how to build the feature set with Python and NLTK. The source code in this video can be found [here](https://pythonprogramming.net/words-as-features-nltk-tutorial/)."
   ]
  },
  {
   "cell_type": "markdown",
   "metadata": {},
   "source": [
    "[![Building Features](building-features.jpg)](https://www.youtube.com/watch?v=-vVskDsHcVc)"
   ]
  },
  {
   "cell_type": "code",
   "execution_count": null,
   "metadata": {},
   "outputs": [],
   "source": [
    "# your code here"
   ]
  },
  {
   "cell_type": "markdown",
   "metadata": {},
   "source": [
    "### Building and Traininng Naive Bayes Model\n",
    "\n",
    "In this step you will split your feature set into a training and a test set. Then you will create a Bayes classifier instance using `nltk.NaiveBayesClassifier.train` ([example](https://www.nltk.org/book/ch06.html)) to train with the training dataset.\n",
    "\n",
    "After training the model, call `classifier.show_most_informative_features()` to inspect the most important features. The output will look like:\n",
    "\n",
    "```\n",
    "Most Informative Features\n",
    "\t    snow = True            False : True   =     34.3 : 1.0\n",
    "\t  easter = True            False : True   =     26.2 : 1.0\n",
    "\t headach = True            False : True   =     20.9 : 1.0\n",
    "\t    argh = True            False : True   =     17.6 : 1.0\n",
    "\tunfortun = True            False : True   =     16.9 : 1.0\n",
    "\t    jona = True             True : False  =     16.2 : 1.0\n",
    "\t     ach = True            False : True   =     14.9 : 1.0\n",
    "\t     sad = True            False : True   =     13.0 : 1.0\n",
    "\t  parent = True            False : True   =     12.9 : 1.0\n",
    "\t  spring = True            False : True   =     12.7 : 1.0\n",
    "```\n",
    "\n",
    "The [following video](https://www.youtube.com/watch?v=rISOsUaTrO4) will help you complete this step. The source code in this video can be found [here](https://pythonprogramming.net/naive-bayes-classifier-nltk-tutorial/)."
   ]
  },
  {
   "cell_type": "markdown",
   "metadata": {},
   "source": [
    "[![Building and Training NB](nb-model-building.jpg)](https://www.youtube.com/watch?v=rISOsUaTrO4)"
   ]
  },
  {
   "cell_type": "code",
   "execution_count": null,
   "metadata": {},
   "outputs": [],
   "source": [
    "# your code here"
   ]
  },
  {
   "cell_type": "markdown",
   "metadata": {},
   "source": [
    "### Testing Naive Bayes Model\n",
    "\n",
    "Now we'll test our classifier with the test dataset. This is done by calling `nltk.classify.accuracy(classifier, test)`.\n",
    "\n",
    "As mentioned in one of the tutorial videos, a Naive Bayes model is considered OK if your accuracy score is over 0.6. If your accuracy score is over 0.7, you've done a great job!"
   ]
  },
  {
   "cell_type": "code",
   "execution_count": null,
   "metadata": {},
   "outputs": [],
   "source": [
    "# your code here"
   ]
  },
  {
   "cell_type": "markdown",
   "metadata": {},
   "source": [
    "## Bonus Question 1: Improve Model Performance\n",
    "\n",
    "If you are still not exhausted so far and want to dig deeper, try to improve your classifier performance. There are many aspects you can dig into, for example:\n",
    "\n",
    "* Improve stemming and lemmatization. Inspect your bag of words and the most important features. Are there any words you should furuther remove from analysis? You can append these words to further remove to the stop words list.\n",
    "\n",
    "* Remember we only used the top 5,000 features to build model? Try using different numbers of top features. The bottom line is to use as few features as you can without compromising your model performance. The fewer features you select into your model, the faster your model is trained. Then you can use a larger sample size to improve your model accuracy score."
   ]
  },
  {
   "cell_type": "code",
   "execution_count": null,
   "metadata": {},
   "outputs": [],
   "source": [
    "# your code here"
   ]
  },
  {
   "cell_type": "markdown",
   "metadata": {},
   "source": [
    "## Bonus Question 2: Machine Learning Pipeline\n",
    "\n",
    "In a new Jupyter Notebook, combine all your codes into a function (or a class). Your new function will execute the complete machine learning pipeline job by receiving the dataset location and output the classifier. This will allow you to use your function to predict the sentiment of any tweet in real time. "
   ]
  },
  {
   "cell_type": "code",
   "execution_count": null,
   "metadata": {},
   "outputs": [],
   "source": [
    "# your code here"
   ]
  }
 ],
 "metadata": {
  "kernelspec": {
   "display_name": "Python 3 (ipykernel)",
   "language": "python",
   "name": "python3"
  },
  "language_info": {
   "codemirror_mode": {
    "name": "ipython",
    "version": 3
   },
   "file_extension": ".py",
   "mimetype": "text/x-python",
   "name": "python",
   "nbconvert_exporter": "python",
   "pygments_lexer": "ipython3",
   "version": "3.9.12"
  }
 },
 "nbformat": 4,
 "nbformat_minor": 2
}
